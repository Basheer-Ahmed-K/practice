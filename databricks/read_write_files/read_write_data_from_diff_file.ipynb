{
 "cells": [
  {
   "cell_type": "code",
   "execution_count": 0,
   "metadata": {
    "application/vnd.databricks.v1+cell": {
     "cellMetadata": {
      "byteLimit": 2048000,
      "rowLimit": 10000
     },
     "inputWidgets": {},
     "nuid": "d5009e85-c2f2-47f4-be12-3229ed0867c6",
     "showTitle": false,
     "title": ""
    }
   },
   "outputs": [
    {
     "output_type": "stream",
     "name": "stdout",
     "output_type": "stream",
     "text": [
      "+-----------------------------+\n|value                        |\n+-----------------------------+\n|Name,Age,Gender,City         |\n|John,25,Male,New York        |\n|Alice,30,Female,Los Angeles  |\n|Bob,35,Male,Chicago          |\n|Emily,28,Female,San Francisco|\n|David,40,Male,Boston         |\n|Sarah,32,Female,Miami        |\n|Michael,45,Male,Seattle      |\n+-----------------------------+\n\n"
     ]
    }
   ],
   "source": [
    "# Reading Text Files\n",
    "text_df = spark.read.text(\"dbfs:/FileStore/tables/sample.txt\")\n",
    "text_df.show(truncate=False)"
   ]
  },
  {
   "cell_type": "code",
   "execution_count": 0,
   "metadata": {
    "application/vnd.databricks.v1+cell": {
     "cellMetadata": {
      "byteLimit": 2048000,
      "rowLimit": 10000
     },
     "inputWidgets": {},
     "nuid": "fc3132f0-58be-4f44-b4d1-04070827d7d0",
     "showTitle": false,
     "title": ""
    }
   },
   "outputs": [
    {
     "output_type": "display_data",
     "data": {
      "text/html": [
       "<style scoped>\n",
       "  .table-result-container {\n",
       "    max-height: 300px;\n",
       "    overflow: auto;\n",
       "  }\n",
       "  table, th, td {\n",
       "    border: 1px solid black;\n",
       "    border-collapse: collapse;\n",
       "  }\n",
       "  th, td {\n",
       "    padding: 5px;\n",
       "  }\n",
       "  th {\n",
       "    text-align: left;\n",
       "  }\n",
       "</style><div class='table-result-container'><table class='table-result'><thead style='background-color: white'><tr><th>Name</th><th>age</th><th>Experience</th></tr></thead><tbody><tr><td>Basheer</td><td>23</td><td>2</td></tr><tr><td>Krishna</td><td>22</td><td>5</td></tr><tr><td>Basheer</td><td>23</td><td>2</td></tr><tr><td>Kuldeep</td><td>25</td><td>3</td></tr></tbody></table></div>"
      ]
     },
     "metadata": {
      "application/vnd.databricks.v1+output": {
       "addedWidgets": {},
       "aggData": [],
       "aggError": "",
       "aggOverflow": false,
       "aggSchema": [],
       "aggSeriesLimitReached": false,
       "aggType": "",
       "arguments": {},
       "columnCustomDisplayInfos": {},
       "data": [
        [
         "Basheer",
         "23",
         "2"
        ],
        [
         "Krishna",
         "22",
         "5"
        ],
        [
         "Basheer",
         "23",
         "2"
        ],
        [
         "Kuldeep",
         "25",
         "3"
        ]
       ],
       "datasetInfos": [],
       "dbfsResultPath": null,
       "isJsonSchema": true,
       "metadata": {},
       "overflow": false,
       "plotOptions": {
        "customPlotOptions": {},
        "displayType": "table",
        "pivotAggregation": null,
        "pivotColumns": null,
        "xColumns": null,
        "yColumns": null
       },
       "removedWidgets": [],
       "schema": [
        {
         "metadata": "{}",
         "name": "Name",
         "type": "\"string\""
        },
        {
         "metadata": "{}",
         "name": "age",
         "type": "\"string\""
        },
        {
         "metadata": "{}",
         "name": "Experience",
         "type": "\"string\""
        }
       ],
       "type": "table"
      }
     },
     "output_type": "display_data"
    },
    {
     "output_type": "display_data",
     "data": {
      "text/html": [
       "<style scoped>\n",
       "  .table-result-container {\n",
       "    max-height: 300px;\n",
       "    overflow: auto;\n",
       "  }\n",
       "  table, th, td {\n",
       "    border: 1px solid black;\n",
       "    border-collapse: collapse;\n",
       "  }\n",
       "  th, td {\n",
       "    padding: 5px;\n",
       "  }\n",
       "  th {\n",
       "    text-align: left;\n",
       "  }\n",
       "</style><div class='table-result-container'><table class='table-result'><thead style='background-color: white'><tr><th>Name</th><th>age</th><th>Experience</th></tr></thead><tbody><tr><td>Basheer</td><td>23</td><td>2</td></tr><tr><td>Krishna</td><td>22</td><td>5</td></tr><tr><td>Basheer</td><td>23</td><td>2</td></tr><tr><td>Kuldeep</td><td>25</td><td>3</td></tr></tbody></table></div>"
      ]
     },
     "metadata": {
      "application/vnd.databricks.v1+output": {
       "addedWidgets": {},
       "aggData": [],
       "aggError": "",
       "aggOverflow": false,
       "aggSchema": [],
       "aggSeriesLimitReached": false,
       "aggType": "",
       "arguments": {},
       "columnCustomDisplayInfos": {},
       "data": [
        [
         "Basheer",
         "23",
         "2"
        ],
        [
         "Krishna",
         "22",
         "5"
        ],
        [
         "Basheer",
         "23",
         "2"
        ],
        [
         "Kuldeep",
         "25",
         "3"
        ]
       ],
       "datasetInfos": [],
       "dbfsResultPath": null,
       "isJsonSchema": true,
       "metadata": {},
       "overflow": false,
       "plotOptions": {
        "customPlotOptions": {},
        "displayType": "table",
        "pivotAggregation": null,
        "pivotColumns": null,
        "xColumns": null,
        "yColumns": null
       },
       "removedWidgets": [],
       "schema": [
        {
         "metadata": "{}",
         "name": "Name",
         "type": "\"string\""
        },
        {
         "metadata": "{}",
         "name": "age",
         "type": "\"string\""
        },
        {
         "metadata": "{}",
         "name": "Experience",
         "type": "\"string\""
        }
       ],
       "type": "table"
      }
     },
     "output_type": "display_data"
    }
   ],
   "source": [
    "# Read csv file\n",
    "csv_path = \"dbfs:/FileStore/tables/sample_data.csv\"\n",
    "csv_df = spark.read.csv(csv_path, header=True)\n",
    "csv_df1 = spark.read.format(\"csv\").option(\"header\",\"true\").load(csv_path)\n",
    "display(csv_df)\n",
    "display(csv_df1)"
   ]
  },
  {
   "cell_type": "code",
   "execution_count": 0,
   "metadata": {
    "application/vnd.databricks.v1+cell": {
     "cellMetadata": {
      "byteLimit": 2048000,
      "rowLimit": 10000
     },
     "inputWidgets": {},
     "nuid": "d5ed5b6c-0949-4130-b5d3-6144c8706dce",
     "showTitle": false,
     "title": ""
    }
   },
   "outputs": [
    {
     "output_type": "display_data",
     "data": {
      "text/html": [
       "<style scoped>\n",
       "  .table-result-container {\n",
       "    max-height: 300px;\n",
       "    overflow: auto;\n",
       "  }\n",
       "  table, th, td {\n",
       "    border: 1px solid black;\n",
       "    border-collapse: collapse;\n",
       "  }\n",
       "  th, td {\n",
       "    padding: 5px;\n",
       "  }\n",
       "  th {\n",
       "    text-align: left;\n",
       "  }\n",
       "</style><div class='table-result-container'><table class='table-result'><thead style='background-color: white'><tr><th>address</th><th>email</th><th>hexcolor</th><th>name</th><th>phoneNumber</th><th>userAgent</th></tr></thead><tbody><tr><td>989 Hoeger Motorway\n",
       "Izabellaburgh, WI 22677</td><td>urunte@swaniawski.com</td><td>#1af9a5</td><td>Edmond Weissnat</td><td>+1 (929) 622-3177</td><td>Opera/9.40 (Windows CE; sl-SI) Presto/2.11.209 Version/11.00</td></tr><tr><td>86837 Dickens Fields\n",
       "Port Lemuel, WA 28565</td><td>lemard@parisian.org</td><td>#773865</td><td>Dr. Jamison Macejkovic IV</td><td>224.928.9760</td><td>Mozilla/5.0 (compatible; MSIE 6.0; Windows 98; Win 9x 4.90; Trident/4.0)</td></tr><tr><td>9019 Powlowski Roads\n",
       "North Gudrun, AL 00428-2999</td><td>hessel.fausto@bradtke.com</td><td>#8b8195</td><td>Lupe Crooks</td><td>(850) 461-5436</td><td>Mozilla/5.0 (compatible; MSIE 8.0; Windows CE; Trident/3.1)</td></tr><tr><td>9917 Lonie View\n",
       "Bayerfurt, AK 60241-0760</td><td>heller.brooks@hotmail.com</td><td>#c48c5a</td><td>Verona Harvey</td><td>+1-520-763-7772</td><td>Mozilla/5.0 (Macintosh; U; PPC Mac OS X 10_6_2 rv:2.0; sl-SI) AppleWebKit/531.36.3 (KHTML, like Gecko) Version/5.0 Safari/531.36.3</td></tr></tbody></table></div>"
      ]
     },
     "metadata": {
      "application/vnd.databricks.v1+output": {
       "addedWidgets": {},
       "aggData": [],
       "aggError": "",
       "aggOverflow": false,
       "aggSchema": [],
       "aggSeriesLimitReached": false,
       "aggType": "",
       "arguments": {},
       "columnCustomDisplayInfos": {},
       "data": [
        [
         "989 Hoeger Motorway\nIzabellaburgh, WI 22677",
         "urunte@swaniawski.com",
         "#1af9a5",
         "Edmond Weissnat",
         "+1 (929) 622-3177",
         "Opera/9.40 (Windows CE; sl-SI) Presto/2.11.209 Version/11.00"
        ],
        [
         "86837 Dickens Fields\nPort Lemuel, WA 28565",
         "lemard@parisian.org",
         "#773865",
         "Dr. Jamison Macejkovic IV",
         "224.928.9760",
         "Mozilla/5.0 (compatible; MSIE 6.0; Windows 98; Win 9x 4.90; Trident/4.0)"
        ],
        [
         "9019 Powlowski Roads\nNorth Gudrun, AL 00428-2999",
         "hessel.fausto@bradtke.com",
         "#8b8195",
         "Lupe Crooks",
         "(850) 461-5436",
         "Mozilla/5.0 (compatible; MSIE 8.0; Windows CE; Trident/3.1)"
        ],
        [
         "9917 Lonie View\nBayerfurt, AK 60241-0760",
         "heller.brooks@hotmail.com",
         "#c48c5a",
         "Verona Harvey",
         "+1-520-763-7772",
         "Mozilla/5.0 (Macintosh; U; PPC Mac OS X 10_6_2 rv:2.0; sl-SI) AppleWebKit/531.36.3 (KHTML, like Gecko) Version/5.0 Safari/531.36.3"
        ]
       ],
       "datasetInfos": [],
       "dbfsResultPath": null,
       "isJsonSchema": true,
       "metadata": {},
       "overflow": false,
       "plotOptions": {
        "customPlotOptions": {},
        "displayType": "table",
        "pivotAggregation": null,
        "pivotColumns": null,
        "xColumns": null,
        "yColumns": null
       },
       "removedWidgets": [],
       "schema": [
        {
         "metadata": "{}",
         "name": "address",
         "type": "\"string\""
        },
        {
         "metadata": "{}",
         "name": "email",
         "type": "\"string\""
        },
        {
         "metadata": "{}",
         "name": "hexcolor",
         "type": "\"string\""
        },
        {
         "metadata": "{}",
         "name": "name",
         "type": "\"string\""
        },
        {
         "metadata": "{}",
         "name": "phoneNumber",
         "type": "\"string\""
        },
        {
         "metadata": "{}",
         "name": "userAgent",
         "type": "\"string\""
        }
       ],
       "type": "table"
      }
     },
     "output_type": "display_data"
    }
   ],
   "source": [
    "# read json file\n",
    "json_path = \"dbfs:/FileStore/tables/multiline.json\"\n",
    "json_df = spark.read.format(\"json\").option(\"multiline\", \"true\").load(json_path)\n",
    "display(json_df)"
   ]
  },
  {
   "cell_type": "code",
   "execution_count": 0,
   "metadata": {
    "application/vnd.databricks.v1+cell": {
     "cellMetadata": {
      "byteLimit": 2048000,
      "rowLimit": 10000
     },
     "inputWidgets": {},
     "nuid": "8b6afd9f-b7c1-4f50-82a0-79586a6cd85a",
     "showTitle": false,
     "title": ""
    }
   },
   "outputs": [],
   "source": [
    "# write parquet file\n",
    "csv_df.write.parquet('dbfs:/FileStore/tables/parquet')"
   ]
  },
  {
   "cell_type": "code",
   "execution_count": 0,
   "metadata": {
    "application/vnd.databricks.v1+cell": {
     "cellMetadata": {
      "byteLimit": 2048000,
      "rowLimit": 10000
     },
     "inputWidgets": {},
     "nuid": "cbc0a68e-530a-4f91-8a46-bb2631883332",
     "showTitle": false,
     "title": ""
    }
   },
   "outputs": [
    {
     "output_type": "display_data",
     "data": {
      "text/html": [
       "<style scoped>\n",
       "  .table-result-container {\n",
       "    max-height: 300px;\n",
       "    overflow: auto;\n",
       "  }\n",
       "  table, th, td {\n",
       "    border: 1px solid black;\n",
       "    border-collapse: collapse;\n",
       "  }\n",
       "  th, td {\n",
       "    padding: 5px;\n",
       "  }\n",
       "  th {\n",
       "    text-align: left;\n",
       "  }\n",
       "</style><div class='table-result-container'><table class='table-result'><thead style='background-color: white'><tr><th>path</th><th>name</th><th>size</th><th>modificationTime</th></tr></thead><tbody><tr><td>dbfs:/FileStore/tables/parquet/_SUCCESS</td><td>_SUCCESS</td><td>0</td><td>1712915409000</td></tr><tr><td>dbfs:/FileStore/tables/parquet/_committed_4640827672335448792</td><td>_committed_4640827672335448792</td><td>123</td><td>1712915409000</td></tr><tr><td>dbfs:/FileStore/tables/parquet/_started_4640827672335448792</td><td>_started_4640827672335448792</td><td>0</td><td>1712915404000</td></tr><tr><td>dbfs:/FileStore/tables/parquet/part-00000-tid-4640827672335448792-c7ed62ce-687d-459b-b898-e87009fc3a63-36-1-c000.snappy.parquet</td><td>part-00000-tid-4640827672335448792-c7ed62ce-687d-459b-b898-e87009fc3a63-36-1-c000.snappy.parquet</td><td>1075</td><td>1712915408000</td></tr></tbody></table></div>"
      ]
     },
     "metadata": {
      "application/vnd.databricks.v1+output": {
       "addedWidgets": {},
       "aggData": [],
       "aggError": "",
       "aggOverflow": false,
       "aggSchema": [],
       "aggSeriesLimitReached": false,
       "aggType": "",
       "arguments": {},
       "columnCustomDisplayInfos": {},
       "data": [
        [
         "dbfs:/FileStore/tables/parquet/_SUCCESS",
         "_SUCCESS",
         0,
         1712915409000
        ],
        [
         "dbfs:/FileStore/tables/parquet/_committed_4640827672335448792",
         "_committed_4640827672335448792",
         123,
         1712915409000
        ],
        [
         "dbfs:/FileStore/tables/parquet/_started_4640827672335448792",
         "_started_4640827672335448792",
         0,
         1712915404000
        ],
        [
         "dbfs:/FileStore/tables/parquet/part-00000-tid-4640827672335448792-c7ed62ce-687d-459b-b898-e87009fc3a63-36-1-c000.snappy.parquet",
         "part-00000-tid-4640827672335448792-c7ed62ce-687d-459b-b898-e87009fc3a63-36-1-c000.snappy.parquet",
         1075,
         1712915408000
        ]
       ],
       "datasetInfos": [],
       "dbfsResultPath": null,
       "isJsonSchema": true,
       "metadata": {},
       "overflow": false,
       "plotOptions": {
        "customPlotOptions": {},
        "displayType": "table",
        "pivotAggregation": null,
        "pivotColumns": null,
        "xColumns": null,
        "yColumns": null
       },
       "removedWidgets": [],
       "schema": [
        {
         "metadata": "{}",
         "name": "path",
         "type": "\"string\""
        },
        {
         "metadata": "{}",
         "name": "name",
         "type": "\"string\""
        },
        {
         "metadata": "{}",
         "name": "size",
         "type": "\"long\""
        },
        {
         "metadata": "{}",
         "name": "modificationTime",
         "type": "\"long\""
        }
       ],
       "type": "table"
      }
     },
     "output_type": "display_data"
    }
   ],
   "source": [
    "display(dbutils.fs.ls(\"dbfs:/FileStore/tables/parquet\"))"
   ]
  },
  {
   "cell_type": "code",
   "execution_count": 0,
   "metadata": {
    "application/vnd.databricks.v1+cell": {
     "cellMetadata": {
      "byteLimit": 2048000,
      "rowLimit": 10000
     },
     "inputWidgets": {},
     "nuid": "cdd36f8a-b3e6-4e31-b8b9-21f4969b29e7",
     "showTitle": false,
     "title": ""
    }
   },
   "outputs": [
    {
     "output_type": "display_data",
     "data": {
      "text/html": [
       "<style scoped>\n",
       "  .table-result-container {\n",
       "    max-height: 300px;\n",
       "    overflow: auto;\n",
       "  }\n",
       "  table, th, td {\n",
       "    border: 1px solid black;\n",
       "    border-collapse: collapse;\n",
       "  }\n",
       "  th, td {\n",
       "    padding: 5px;\n",
       "  }\n",
       "  th {\n",
       "    text-align: left;\n",
       "  }\n",
       "</style><div class='table-result-container'><table class='table-result'><thead style='background-color: white'><tr><th>Name</th><th>age</th><th>Experience</th></tr></thead><tbody><tr><td>Basheer</td><td>23</td><td>2</td></tr><tr><td>Krishna</td><td>22</td><td>5</td></tr><tr><td>Basheer</td><td>23</td><td>2</td></tr><tr><td>Kuldeep</td><td>25</td><td>3</td></tr></tbody></table></div>"
      ]
     },
     "metadata": {
      "application/vnd.databricks.v1+output": {
       "addedWidgets": {},
       "aggData": [],
       "aggError": "",
       "aggOverflow": false,
       "aggSchema": [],
       "aggSeriesLimitReached": false,
       "aggType": "",
       "arguments": {},
       "columnCustomDisplayInfos": {},
       "data": [
        [
         "Basheer",
         "23",
         "2"
        ],
        [
         "Krishna",
         "22",
         "5"
        ],
        [
         "Basheer",
         "23",
         "2"
        ],
        [
         "Kuldeep",
         "25",
         "3"
        ]
       ],
       "datasetInfos": [],
       "dbfsResultPath": null,
       "isJsonSchema": true,
       "metadata": {},
       "overflow": false,
       "plotOptions": {
        "customPlotOptions": {},
        "displayType": "table",
        "pivotAggregation": null,
        "pivotColumns": null,
        "xColumns": null,
        "yColumns": null
       },
       "removedWidgets": [],
       "schema": [
        {
         "metadata": "{}",
         "name": "Name",
         "type": "\"string\""
        },
        {
         "metadata": "{}",
         "name": "age",
         "type": "\"string\""
        },
        {
         "metadata": "{}",
         "name": "Experience",
         "type": "\"string\""
        }
       ],
       "type": "table"
      }
     },
     "output_type": "display_data"
    }
   ],
   "source": [
    "# read parquet file\n",
    "parquet_path = \"dbfs:/FileStore/tables/parquet/part-00000-tid-4640827672335448792-c7ed62ce-687d-459b-b898-e87009fc3a63-36-1-c000.snappy.parquet\"\n",
    "parquet_df = spark.read.format(\"parquet\").load(parquet_path)\n",
    "display(parquet_df)"
   ]
  },
  {
   "cell_type": "code",
   "execution_count": 0,
   "metadata": {
    "application/vnd.databricks.v1+cell": {
     "cellMetadata": {
      "byteLimit": 2048000,
      "rowLimit": 10000
     },
     "inputWidgets": {},
     "nuid": "7b9f78fd-fe1e-4a88-b303-5041b57841a2",
     "showTitle": false,
     "title": ""
    }
   },
   "outputs": [],
   "source": [
    "# write ORC (Optimised Row Columnar)\n",
    "csv_df.write.orc(\"dbfs:/FileStore/tables/orc\")"
   ]
  },
  {
   "cell_type": "code",
   "execution_count": 0,
   "metadata": {
    "application/vnd.databricks.v1+cell": {
     "cellMetadata": {
      "byteLimit": 2048000,
      "rowLimit": 10000
     },
     "inputWidgets": {},
     "nuid": "23027d85-4fe2-4679-8b50-a9f74fbf1312",
     "showTitle": false,
     "title": ""
    }
   },
   "outputs": [
    {
     "output_type": "display_data",
     "data": {
      "text/html": [
       "<style scoped>\n",
       "  .table-result-container {\n",
       "    max-height: 300px;\n",
       "    overflow: auto;\n",
       "  }\n",
       "  table, th, td {\n",
       "    border: 1px solid black;\n",
       "    border-collapse: collapse;\n",
       "  }\n",
       "  th, td {\n",
       "    padding: 5px;\n",
       "  }\n",
       "  th {\n",
       "    text-align: left;\n",
       "  }\n",
       "</style><div class='table-result-container'><table class='table-result'><thead style='background-color: white'><tr><th>path</th><th>name</th><th>size</th><th>modificationTime</th></tr></thead><tbody><tr><td>dbfs:/FileStore/tables/orc/_SUCCESS</td><td>_SUCCESS</td><td>0</td><td>1712916164000</td></tr><tr><td>dbfs:/FileStore/tables/orc/_committed_3057184157558628298</td><td>_committed_3057184157558628298</td><td>119</td><td>1712916163000</td></tr><tr><td>dbfs:/FileStore/tables/orc/_started_3057184157558628298</td><td>_started_3057184157558628298</td><td>0</td><td>1712916162000</td></tr><tr><td>dbfs:/FileStore/tables/orc/part-00000-tid-3057184157558628298-e2d4ca4f-78fc-4825-b990-8ae4061654c6-47-1-c000.snappy.orc</td><td>part-00000-tid-3057184157558628298-e2d4ca4f-78fc-4825-b990-8ae4061654c6-47-1-c000.snappy.orc</td><td>575</td><td>1712916163000</td></tr></tbody></table></div>"
      ]
     },
     "metadata": {
      "application/vnd.databricks.v1+output": {
       "addedWidgets": {},
       "aggData": [],
       "aggError": "",
       "aggOverflow": false,
       "aggSchema": [],
       "aggSeriesLimitReached": false,
       "aggType": "",
       "arguments": {},
       "columnCustomDisplayInfos": {},
       "data": [
        [
         "dbfs:/FileStore/tables/orc/_SUCCESS",
         "_SUCCESS",
         0,
         1712916164000
        ],
        [
         "dbfs:/FileStore/tables/orc/_committed_3057184157558628298",
         "_committed_3057184157558628298",
         119,
         1712916163000
        ],
        [
         "dbfs:/FileStore/tables/orc/_started_3057184157558628298",
         "_started_3057184157558628298",
         0,
         1712916162000
        ],
        [
         "dbfs:/FileStore/tables/orc/part-00000-tid-3057184157558628298-e2d4ca4f-78fc-4825-b990-8ae4061654c6-47-1-c000.snappy.orc",
         "part-00000-tid-3057184157558628298-e2d4ca4f-78fc-4825-b990-8ae4061654c6-47-1-c000.snappy.orc",
         575,
         1712916163000
        ]
       ],
       "datasetInfos": [],
       "dbfsResultPath": null,
       "isJsonSchema": true,
       "metadata": {},
       "overflow": false,
       "plotOptions": {
        "customPlotOptions": {},
        "displayType": "table",
        "pivotAggregation": null,
        "pivotColumns": null,
        "xColumns": null,
        "yColumns": null
       },
       "removedWidgets": [],
       "schema": [
        {
         "metadata": "{}",
         "name": "path",
         "type": "\"string\""
        },
        {
         "metadata": "{}",
         "name": "name",
         "type": "\"string\""
        },
        {
         "metadata": "{}",
         "name": "size",
         "type": "\"long\""
        },
        {
         "metadata": "{}",
         "name": "modificationTime",
         "type": "\"long\""
        }
       ],
       "type": "table"
      }
     },
     "output_type": "display_data"
    }
   ],
   "source": [
    "display(dbutils.fs.ls(\"dbfs:/FileStore/tables/orc\"))"
   ]
  },
  {
   "cell_type": "code",
   "execution_count": 0,
   "metadata": {
    "application/vnd.databricks.v1+cell": {
     "cellMetadata": {
      "byteLimit": 2048000,
      "rowLimit": 10000
     },
     "inputWidgets": {},
     "nuid": "50d99877-7fa0-4d69-b978-eee6114b891a",
     "showTitle": false,
     "title": ""
    }
   },
   "outputs": [
    {
     "output_type": "stream",
     "name": "stdout",
     "output_type": "stream",
     "text": [
      "+-------+---+----------+\n|   Name|age|Experience|\n+-------+---+----------+\n|Basheer| 23|         2|\n|Krishna| 22|         5|\n|Basheer| 23|         2|\n|Kuldeep| 25|         3|\n+-------+---+----------+\n\n"
     ]
    }
   ],
   "source": [
    "# read from ORC (Optimised Row Columnar)\n",
    "orc_df = spark.read.orc(\"dbfs:/FileStore/tables/orc/part-00000-tid-3057184157558628298-e2d4ca4f-78fc-4825-b990-8ae4061654c6-47-1-c000.snappy.orc\")\n",
    "orc_df.show()"
   ]
  },
  {
   "cell_type": "code",
   "execution_count": 0,
   "metadata": {
    "application/vnd.databricks.v1+cell": {
     "cellMetadata": {
      "byteLimit": 2048000,
      "rowLimit": 10000
     },
     "inputWidgets": {},
     "nuid": "818a9576-2642-4248-ae54-6bb1cfeccbd1",
     "showTitle": false,
     "title": ""
    }
   },
   "outputs": [
    {
     "output_type": "display_data",
     "data": {
      "text/html": [
       "<style scoped>\n",
       "  .table-result-container {\n",
       "    max-height: 300px;\n",
       "    overflow: auto;\n",
       "  }\n",
       "  table, th, td {\n",
       "    border: 1px solid black;\n",
       "    border-collapse: collapse;\n",
       "  }\n",
       "  th, td {\n",
       "    padding: 5px;\n",
       "  }\n",
       "  th {\n",
       "    text-align: left;\n",
       "  }\n",
       "</style><div class='table-result-container'><table class='table-result'><thead style='background-color: white'><tr><th>path</th><th>name</th><th>size</th><th>modificationTime</th></tr></thead><tbody><tr><td>dbfs:/FileStore/tables/avro/_SUCCESS</td><td>_SUCCESS</td><td>0</td><td>1712916444000</td></tr><tr><td>dbfs:/FileStore/tables/avro/_committed_17609906668230748</td><td>_committed_17609906668230748</td><td>111</td><td>1712916444000</td></tr><tr><td>dbfs:/FileStore/tables/avro/_started_17609906668230748</td><td>_started_17609906668230748</td><td>0</td><td>1712916443000</td></tr><tr><td>dbfs:/FileStore/tables/avro/part-00000-tid-17609906668230748-ace25dc2-5694-451f-8f50-96b3d5a5d7d8-57-1-c000.avro</td><td>part-00000-tid-17609906668230748-ace25dc2-5694-451f-8f50-96b3d5a5d7d8-57-1-c000.avro</td><td>338</td><td>1712916444000</td></tr></tbody></table></div>"
      ]
     },
     "metadata": {
      "application/vnd.databricks.v1+output": {
       "addedWidgets": {},
       "aggData": [],
       "aggError": "",
       "aggOverflow": false,
       "aggSchema": [],
       "aggSeriesLimitReached": false,
       "aggType": "",
       "arguments": {},
       "columnCustomDisplayInfos": {},
       "data": [
        [
         "dbfs:/FileStore/tables/avro/_SUCCESS",
         "_SUCCESS",
         0,
         1712916444000
        ],
        [
         "dbfs:/FileStore/tables/avro/_committed_17609906668230748",
         "_committed_17609906668230748",
         111,
         1712916444000
        ],
        [
         "dbfs:/FileStore/tables/avro/_started_17609906668230748",
         "_started_17609906668230748",
         0,
         1712916443000
        ],
        [
         "dbfs:/FileStore/tables/avro/part-00000-tid-17609906668230748-ace25dc2-5694-451f-8f50-96b3d5a5d7d8-57-1-c000.avro",
         "part-00000-tid-17609906668230748-ace25dc2-5694-451f-8f50-96b3d5a5d7d8-57-1-c000.avro",
         338,
         1712916444000
        ]
       ],
       "datasetInfos": [],
       "dbfsResultPath": null,
       "isJsonSchema": true,
       "metadata": {},
       "overflow": false,
       "plotOptions": {
        "customPlotOptions": {},
        "displayType": "table",
        "pivotAggregation": null,
        "pivotColumns": null,
        "xColumns": null,
        "yColumns": null
       },
       "removedWidgets": [],
       "schema": [
        {
         "metadata": "{}",
         "name": "path",
         "type": "\"string\""
        },
        {
         "metadata": "{}",
         "name": "name",
         "type": "\"string\""
        },
        {
         "metadata": "{}",
         "name": "size",
         "type": "\"long\""
        },
        {
         "metadata": "{}",
         "name": "modificationTime",
         "type": "\"long\""
        }
       ],
       "type": "table"
      }
     },
     "output_type": "display_data"
    }
   ],
   "source": [
    "# Write avro format\n",
    "# Avro is a row-oriented remote procedure call and data serialization framework developed within Apache's Hadoop project.\n",
    "csv_df.write.format(\"avro\").save(\"dbfs:/FileStore/tables/avro\")\n",
    "display(dbutils.fs.ls(\"dbfs:/FileStore/tables/avro\"))"
   ]
  },
  {
   "cell_type": "code",
   "execution_count": 0,
   "metadata": {
    "application/vnd.databricks.v1+cell": {
     "cellMetadata": {
      "byteLimit": 2048000,
      "rowLimit": 10000
     },
     "inputWidgets": {},
     "nuid": "314dbf96-4a9f-494d-ad3d-4302f9375f47",
     "showTitle": false,
     "title": ""
    }
   },
   "outputs": [
    {
     "output_type": "stream",
     "name": "stdout",
     "output_type": "stream",
     "text": [
      "+-------+---+----------+\n|   Name|age|Experience|\n+-------+---+----------+\n|Basheer| 23|         2|\n|Krishna| 22|         5|\n|Basheer| 23|         2|\n|Kuldeep| 25|         3|\n+-------+---+----------+\n\n"
     ]
    }
   ],
   "source": [
    "# Read avro file\n",
    "avro_df = spark.read.format(\"avro\").load('dbfs:/FileStore/tables/avro/part-00000-tid-17609906668230748-ace25dc2-5694-451f-8f50-96b3d5a5d7d8-57-1-c000.avro')\n",
    "avro_df.show()"
   ]
  },
  {
   "cell_type": "code",
   "execution_count": 0,
   "metadata": {
    "application/vnd.databricks.v1+cell": {
     "cellMetadata": {
      "byteLimit": 2048000,
      "rowLimit": 10000
     },
     "inputWidgets": {},
     "nuid": "c2098900-94f8-49cd-947c-2a767dfcc835",
     "showTitle": false,
     "title": ""
    }
   },
   "outputs": [
    {
     "output_type": "stream",
     "name": "stdout",
     "output_type": "stream",
     "text": [
      "+-------+---+\n|   name|age|\n+-------+---+\n|basheer| 23|\n|  ahmed| 24|\n|kuldeep| 25|\n+-------+---+\n\n"
     ]
    }
   ],
   "source": [
    "# create a dataframe\n",
    "df = spark.createDataFrame([('basheer', 23),('ahmed', 24), ('kuldeep', 25)], [\"name\",'age'])\n",
    "df.show()"
   ]
  },
  {
   "cell_type": "code",
   "execution_count": 0,
   "metadata": {
    "application/vnd.databricks.v1+cell": {
     "cellMetadata": {
      "byteLimit": 2048000,
      "rowLimit": 10000
     },
     "inputWidgets": {},
     "nuid": "ba9ec053-5913-4303-ac79-ad38cda98554",
     "showTitle": false,
     "title": ""
    }
   },
   "outputs": [
    {
     "output_type": "display_data",
     "data": {
      "text/html": [
       "<style scoped>\n",
       "  .table-result-container {\n",
       "    max-height: 300px;\n",
       "    overflow: auto;\n",
       "  }\n",
       "  table, th, td {\n",
       "    border: 1px solid black;\n",
       "    border-collapse: collapse;\n",
       "  }\n",
       "  th, td {\n",
       "    padding: 5px;\n",
       "  }\n",
       "  th {\n",
       "    text-align: left;\n",
       "  }\n",
       "</style><div class='table-result-container'><table class='table-result'><thead style='background-color: white'><tr><th>path</th><th>name</th><th>size</th><th>modificationTime</th></tr></thead><tbody><tr><td>dbfs:/FileStore/tables/temp.csv/_SUCCESS</td><td>_SUCCESS</td><td>0</td><td>1712916985000</td></tr><tr><td>dbfs:/FileStore/tables/temp.csv/_committed_1184673270642846323</td><td>_committed_1184673270642846323</td><td>376</td><td>1712916985000</td></tr><tr><td>dbfs:/FileStore/tables/temp.csv/_started_1184673270642846323</td><td>_started_1184673270642846323</td><td>0</td><td>1712916984000</td></tr><tr><td>dbfs:/FileStore/tables/temp.csv/part-00000-tid-1184673270642846323-d2309bf0-56f3-4f91-a75f-1ca1984706f9-83-1-c000.csv</td><td>part-00000-tid-1184673270642846323-d2309bf0-56f3-4f91-a75f-1ca1984706f9-83-1-c000.csv</td><td>0</td><td>1712916984000</td></tr><tr><td>dbfs:/FileStore/tables/temp.csv/part-00002-tid-1184673270642846323-d2309bf0-56f3-4f91-a75f-1ca1984706f9-85-1-c000.csv</td><td>part-00002-tid-1184673270642846323-d2309bf0-56f3-4f91-a75f-1ca1984706f9-85-1-c000.csv</td><td>11</td><td>1712916984000</td></tr><tr><td>dbfs:/FileStore/tables/temp.csv/part-00005-tid-1184673270642846323-d2309bf0-56f3-4f91-a75f-1ca1984706f9-88-1-c000.csv</td><td>part-00005-tid-1184673270642846323-d2309bf0-56f3-4f91-a75f-1ca1984706f9-88-1-c000.csv</td><td>9</td><td>1712916984000</td></tr><tr><td>dbfs:/FileStore/tables/temp.csv/part-00007-tid-1184673270642846323-d2309bf0-56f3-4f91-a75f-1ca1984706f9-90-1-c000.csv</td><td>part-00007-tid-1184673270642846323-d2309bf0-56f3-4f91-a75f-1ca1984706f9-90-1-c000.csv</td><td>11</td><td>1712916984000</td></tr></tbody></table></div>"
      ]
     },
     "metadata": {
      "application/vnd.databricks.v1+output": {
       "addedWidgets": {},
       "aggData": [],
       "aggError": "",
       "aggOverflow": false,
       "aggSchema": [],
       "aggSeriesLimitReached": false,
       "aggType": "",
       "arguments": {},
       "columnCustomDisplayInfos": {},
       "data": [
        [
         "dbfs:/FileStore/tables/temp.csv/_SUCCESS",
         "_SUCCESS",
         0,
         1712916985000
        ],
        [
         "dbfs:/FileStore/tables/temp.csv/_committed_1184673270642846323",
         "_committed_1184673270642846323",
         376,
         1712916985000
        ],
        [
         "dbfs:/FileStore/tables/temp.csv/_started_1184673270642846323",
         "_started_1184673270642846323",
         0,
         1712916984000
        ],
        [
         "dbfs:/FileStore/tables/temp.csv/part-00000-tid-1184673270642846323-d2309bf0-56f3-4f91-a75f-1ca1984706f9-83-1-c000.csv",
         "part-00000-tid-1184673270642846323-d2309bf0-56f3-4f91-a75f-1ca1984706f9-83-1-c000.csv",
         0,
         1712916984000
        ],
        [
         "dbfs:/FileStore/tables/temp.csv/part-00002-tid-1184673270642846323-d2309bf0-56f3-4f91-a75f-1ca1984706f9-85-1-c000.csv",
         "part-00002-tid-1184673270642846323-d2309bf0-56f3-4f91-a75f-1ca1984706f9-85-1-c000.csv",
         11,
         1712916984000
        ],
        [
         "dbfs:/FileStore/tables/temp.csv/part-00005-tid-1184673270642846323-d2309bf0-56f3-4f91-a75f-1ca1984706f9-88-1-c000.csv",
         "part-00005-tid-1184673270642846323-d2309bf0-56f3-4f91-a75f-1ca1984706f9-88-1-c000.csv",
         9,
         1712916984000
        ],
        [
         "dbfs:/FileStore/tables/temp.csv/part-00007-tid-1184673270642846323-d2309bf0-56f3-4f91-a75f-1ca1984706f9-90-1-c000.csv",
         "part-00007-tid-1184673270642846323-d2309bf0-56f3-4f91-a75f-1ca1984706f9-90-1-c000.csv",
         11,
         1712916984000
        ]
       ],
       "datasetInfos": [],
       "dbfsResultPath": null,
       "isJsonSchema": true,
       "metadata": {},
       "overflow": false,
       "plotOptions": {
        "customPlotOptions": {},
        "displayType": "table",
        "pivotAggregation": null,
        "pivotColumns": null,
        "xColumns": null,
        "yColumns": null
       },
       "removedWidgets": [],
       "schema": [
        {
         "metadata": "{}",
         "name": "path",
         "type": "\"string\""
        },
        {
         "metadata": "{}",
         "name": "name",
         "type": "\"string\""
        },
        {
         "metadata": "{}",
         "name": "size",
         "type": "\"long\""
        },
        {
         "metadata": "{}",
         "name": "modificationTime",
         "type": "\"long\""
        }
       ],
       "type": "table"
      }
     },
     "output_type": "display_data"
    }
   ],
   "source": [
    "# write to csv file\n",
    "df.write.format(\"csv\").save('dbfs:/FileStore/tables/temp.csv')\n",
    "display(dbutils.fs.ls(\"dbfs:/FileStore/tables/temp.csv\"))"
   ]
  },
  {
   "cell_type": "code",
   "execution_count": 0,
   "metadata": {
    "application/vnd.databricks.v1+cell": {
     "cellMetadata": {
      "byteLimit": 2048000,
      "rowLimit": 10000
     },
     "inputWidgets": {},
     "nuid": "1a8c8f5d-6fc1-4341-ac20-56b93e00571d",
     "showTitle": false,
     "title": ""
    }
   },
   "outputs": [
    {
     "output_type": "display_data",
     "data": {
      "text/plain": [
       "'basheer,23\\n'"
      ]
     },
     "metadata": {},
     "output_type": "display_data"
    },
    {
     "output_type": "display_data",
     "data": {
      "text/plain": [
       "'ahmed,24\\n'"
      ]
     },
     "metadata": {},
     "output_type": "display_data"
    },
    {
     "output_type": "display_data",
     "data": {
      "text/plain": [
       "'kuldeep,25\\n'"
      ]
     },
     "metadata": {},
     "output_type": "display_data"
    }
   ],
   "source": [
    "display(dbutils.fs.head(\"dbfs:/FileStore/tables/temp.csv/part-00002-tid-1184673270642846323-d2309bf0-56f3-4f91-a75f-1ca1984706f9-85-1-c000.csv\"),\n",
    "dbutils.fs.head(\"dbfs:/FileStore/tables/temp.csv/part-00005-tid-1184673270642846323-d2309bf0-56f3-4f91-a75f-1ca1984706f9-88-1-c000.csv\"),\n",
    "dbutils.fs.head(\"dbfs:/FileStore/tables/temp.csv/part-00007-tid-1184673270642846323-d2309bf0-56f3-4f91-a75f-1ca1984706f9-90-1-c000.csv\"))"
   ]
  },
  {
   "cell_type": "code",
   "execution_count": 0,
   "metadata": {
    "application/vnd.databricks.v1+cell": {
     "cellMetadata": {
      "byteLimit": 2048000,
      "rowLimit": 10000
     },
     "inputWidgets": {},
     "nuid": "f6327995-1fde-43da-ab76-e72c6f8ce47f",
     "showTitle": false,
     "title": ""
    }
   },
   "outputs": [
    {
     "output_type": "display_data",
     "data": {
      "text/html": [
       "<style scoped>\n",
       "  .table-result-container {\n",
       "    max-height: 300px;\n",
       "    overflow: auto;\n",
       "  }\n",
       "  table, th, td {\n",
       "    border: 1px solid black;\n",
       "    border-collapse: collapse;\n",
       "  }\n",
       "  th, td {\n",
       "    padding: 5px;\n",
       "  }\n",
       "  th {\n",
       "    text-align: left;\n",
       "  }\n",
       "</style><div class='table-result-container'><table class='table-result'><thead style='background-color: white'><tr><th>path</th><th>name</th><th>size</th><th>modificationTime</th></tr></thead><tbody><tr><td>dbfs:/FileStore/tables/csv_single_file/_SUCCESS</td><td>_SUCCESS</td><td>0</td><td>1712917248000</td></tr><tr><td>dbfs:/FileStore/tables/csv_single_file/_committed_5784927779037835640</td><td>_committed_5784927779037835640</td><td>112</td><td>1712917248000</td></tr><tr><td>dbfs:/FileStore/tables/csv_single_file/_started_5784927779037835640</td><td>_started_5784927779037835640</td><td>0</td><td>1712917247000</td></tr><tr><td>dbfs:/FileStore/tables/csv_single_file/part-00000-tid-5784927779037835640-5caa7c05-348d-4d04-8227-c0f3934785ed-99-1-c000.csv</td><td>part-00000-tid-5784927779037835640-5caa7c05-348d-4d04-8227-c0f3934785ed-99-1-c000.csv</td><td>31</td><td>1712917248000</td></tr></tbody></table></div>"
      ]
     },
     "metadata": {
      "application/vnd.databricks.v1+output": {
       "addedWidgets": {},
       "aggData": [],
       "aggError": "",
       "aggOverflow": false,
       "aggSchema": [],
       "aggSeriesLimitReached": false,
       "aggType": "",
       "arguments": {},
       "columnCustomDisplayInfos": {},
       "data": [
        [
         "dbfs:/FileStore/tables/csv_single_file/_SUCCESS",
         "_SUCCESS",
         0,
         1712917248000
        ],
        [
         "dbfs:/FileStore/tables/csv_single_file/_committed_5784927779037835640",
         "_committed_5784927779037835640",
         112,
         1712917248000
        ],
        [
         "dbfs:/FileStore/tables/csv_single_file/_started_5784927779037835640",
         "_started_5784927779037835640",
         0,
         1712917247000
        ],
        [
         "dbfs:/FileStore/tables/csv_single_file/part-00000-tid-5784927779037835640-5caa7c05-348d-4d04-8227-c0f3934785ed-99-1-c000.csv",
         "part-00000-tid-5784927779037835640-5caa7c05-348d-4d04-8227-c0f3934785ed-99-1-c000.csv",
         31,
         1712917248000
        ]
       ],
       "datasetInfos": [],
       "dbfsResultPath": null,
       "isJsonSchema": true,
       "metadata": {},
       "overflow": false,
       "plotOptions": {
        "customPlotOptions": {},
        "displayType": "table",
        "pivotAggregation": null,
        "pivotColumns": null,
        "xColumns": null,
        "yColumns": null
       },
       "removedWidgets": [],
       "schema": [
        {
         "metadata": "{}",
         "name": "path",
         "type": "\"string\""
        },
        {
         "metadata": "{}",
         "name": "name",
         "type": "\"string\""
        },
        {
         "metadata": "{}",
         "name": "size",
         "type": "\"long\""
        },
        {
         "metadata": "{}",
         "name": "modificationTime",
         "type": "\"long\""
        }
       ],
       "type": "table"
      }
     },
     "output_type": "display_data"
    }
   ],
   "source": [
    "# write csv in single file\n",
    "df.coalesce(1).write.format(\"csv\").save(\"dbfs:/FileStore/tables/csv_single_file\")\n",
    "display(dbutils.fs.ls(\"dbfs:/FileStore/tables/csv_single_file\"))"
   ]
  },
  {
   "cell_type": "code",
   "execution_count": 0,
   "metadata": {
    "application/vnd.databricks.v1+cell": {
     "cellMetadata": {
      "byteLimit": 2048000,
      "rowLimit": 10000
     },
     "inputWidgets": {},
     "nuid": "97302470-c596-4cde-ace9-9f9a7769b8c9",
     "showTitle": false,
     "title": ""
    }
   },
   "outputs": [
    {
     "output_type": "stream",
     "name": "stdout",
     "output_type": "stream",
     "text": [
      "+-------+---+\n|    _c0|_c1|\n+-------+---+\n|basheer| 23|\n|  ahmed| 24|\n|kuldeep| 25|\n+-------+---+\n\n"
     ]
    }
   ],
   "source": [
    "# read writtern csv\n",
    "\n",
    "csv_read_df = spark.read.csv(\"dbfs:/FileStore/tables/csv_single_file/part-00000-tid-5784927779037835640-5caa7c05-348d-4d04-8227-c0f3934785ed-99-1-c000.csv\")\n",
    "csv_read_df.show()"
   ]
  },
  {
   "cell_type": "code",
   "execution_count": 0,
   "metadata": {
    "application/vnd.databricks.v1+cell": {
     "cellMetadata": {
      "byteLimit": 2048000,
      "rowLimit": 10000
     },
     "inputWidgets": {},
     "nuid": "9c1fc5b7-98f5-442b-833b-f9ed3725fb54",
     "showTitle": false,
     "title": ""
    }
   },
   "outputs": [
    {
     "output_type": "display_data",
     "data": {
      "text/html": [
       "<style scoped>\n",
       "  .table-result-container {\n",
       "    max-height: 300px;\n",
       "    overflow: auto;\n",
       "  }\n",
       "  table, th, td {\n",
       "    border: 1px solid black;\n",
       "    border-collapse: collapse;\n",
       "  }\n",
       "  th, td {\n",
       "    padding: 5px;\n",
       "  }\n",
       "  th {\n",
       "    text-align: left;\n",
       "  }\n",
       "</style><div class='table-result-container'><table class='table-result'><thead style='background-color: white'><tr><th>path</th><th>name</th><th>size</th><th>modificationTime</th></tr></thead><tbody><tr><td>dbfs:/FileStore/tables/json_single_file/_SUCCESS</td><td>_SUCCESS</td><td>0</td><td>1712920205000</td></tr><tr><td>dbfs:/FileStore/tables/json_single_file/_committed_3953217717203999284</td><td>_committed_3953217717203999284</td><td>114</td><td>1712920205000</td></tr><tr><td>dbfs:/FileStore/tables/json_single_file/_started_3953217717203999284</td><td>_started_3953217717203999284</td><td>0</td><td>1712920204000</td></tr><tr><td>dbfs:/FileStore/tables/json_single_file/part-00000-tid-3953217717203999284-3ab954f0-1b16-4443-b179-5f6ea74cdde9-110-1-c000.json</td><td>part-00000-tid-3953217717203999284-3ab954f0-1b16-4443-b179-5f6ea74cdde9-110-1-c000.json</td><td>82</td><td>1712920205000</td></tr></tbody></table></div>"
      ]
     },
     "metadata": {
      "application/vnd.databricks.v1+output": {
       "addedWidgets": {},
       "aggData": [],
       "aggError": "",
       "aggOverflow": false,
       "aggSchema": [],
       "aggSeriesLimitReached": false,
       "aggType": "",
       "arguments": {},
       "columnCustomDisplayInfos": {},
       "data": [
        [
         "dbfs:/FileStore/tables/json_single_file/_SUCCESS",
         "_SUCCESS",
         0,
         1712920205000
        ],
        [
         "dbfs:/FileStore/tables/json_single_file/_committed_3953217717203999284",
         "_committed_3953217717203999284",
         114,
         1712920205000
        ],
        [
         "dbfs:/FileStore/tables/json_single_file/_started_3953217717203999284",
         "_started_3953217717203999284",
         0,
         1712920204000
        ],
        [
         "dbfs:/FileStore/tables/json_single_file/part-00000-tid-3953217717203999284-3ab954f0-1b16-4443-b179-5f6ea74cdde9-110-1-c000.json",
         "part-00000-tid-3953217717203999284-3ab954f0-1b16-4443-b179-5f6ea74cdde9-110-1-c000.json",
         82,
         1712920205000
        ]
       ],
       "datasetInfos": [],
       "dbfsResultPath": null,
       "isJsonSchema": true,
       "metadata": {},
       "overflow": false,
       "plotOptions": {
        "customPlotOptions": {},
        "displayType": "table",
        "pivotAggregation": null,
        "pivotColumns": null,
        "xColumns": null,
        "yColumns": null
       },
       "removedWidgets": [],
       "schema": [
        {
         "metadata": "{}",
         "name": "path",
         "type": "\"string\""
        },
        {
         "metadata": "{}",
         "name": "name",
         "type": "\"string\""
        },
        {
         "metadata": "{}",
         "name": "size",
         "type": "\"long\""
        },
        {
         "metadata": "{}",
         "name": "modificationTime",
         "type": "\"long\""
        }
       ],
       "type": "table"
      }
     },
     "output_type": "display_data"
    }
   ],
   "source": [
    "# write json\n",
    "df.coalesce(1).write.format(\"json\").save('dbfs:/FileStore/tables/json_single_file')\n",
    "display(dbutils.fs.ls(\"dbfs:/FileStore/tables/json_single_file\"))"
   ]
  },
  {
   "cell_type": "code",
   "execution_count": 0,
   "metadata": {
    "application/vnd.databricks.v1+cell": {
     "cellMetadata": {
      "byteLimit": 2048000,
      "rowLimit": 10000
     },
     "inputWidgets": {},
     "nuid": "a0f989d5-d694-4629-8218-097e88d40dfa",
     "showTitle": false,
     "title": ""
    }
   },
   "outputs": [
    {
     "output_type": "stream",
     "name": "stdout",
     "output_type": "stream",
     "text": [
      "+---+-------+\n|age|   name|\n+---+-------+\n| 23|basheer|\n| 24|  ahmed|\n| 25|kuldeep|\n+---+-------+\n\n"
     ]
    }
   ],
   "source": [
    "# read json\n",
    "json_read_df = spark.read.json(\"dbfs:/FileStore/tables/json_single_file/part-00000-tid-3953217717203999284-3ab954f0-1b16-4443-b179-5f6ea74cdde9-110-1-c000.json\")\n",
    "json_read_df.show()"
   ]
  }
 ],
 "metadata": {
  "application/vnd.databricks.v1+notebook": {
   "dashboards": [],
   "language": "python",
   "notebookMetadata": {
    "pythonIndentUnit": 4
   },
   "notebookName": "read_write_data_from_diff_file",
   "widgets": {}
  }
 },
 "nbformat": 4,
 "nbformat_minor": 0
}
